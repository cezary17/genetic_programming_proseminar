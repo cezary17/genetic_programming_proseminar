{
 "nbformat": 4,
 "nbformat_minor": 0,
 "metadata": {
  "colab": {
   "provenance": []
  },
  "kernelspec": {
   "name": "python3",
   "display_name": "Python 3"
  },
  "language_info": {
   "name": "python"
  }
 },
 "cells": [
  {
   "cell_type": "markdown",
   "source": [
    "# We start by importing the dependencies and setting the parameters\n",
    "- NUM_ITEMS => amount of different items in a solution\n",
    "- MAX_WEIGHT => maximum amount of weight our knapsack can hold\n",
    "- MUTATION_RATE => mutation occurs in that amount of genes\n",
    "- POP_SIZE => size of our population of solutions\n",
    "- TOURNAMENT_SIZE => how big the tournament rounds are\n",
    "- MAX_VALUES => not related to gp, sets the maximum for the value and weight of each item\n",
    "- DAMPENING => sets whether we only pick the new generation if it performs better than the old one or always"
   ],
   "metadata": {
    "id": "BxFEj1v_slyT"
   }
  },
  {
   "cell_type": "code",
   "execution_count": 23,
   "metadata": {
    "id": "O8t2m6VUr3ip"
   },
   "outputs": [],
   "source": [
    "import random\n",
    "import matplotlib.pyplot as plt\n",
    "import seaborn as sns\n",
    "import itertools\n",
    "from time import perf_counter\n",
    "\n",
    "from knapsack_dp import knapsack_dp\n",
    "\n",
    "# Define the parameters of the problem and parameters for the algorithm\n",
    "NUM_ITEMS = 50\n",
    "MAX_WEIGHT = 500\n",
    "MUTATION_RATE = 0.1\n",
    "NUM_ROUNDS = 100\n",
    "POP_SIZE = 128\n",
    "TOURNAMENT_SIZE = 8\n",
    "MAX_VALUES = 10\n",
    "DAMPENING = True\n",
    "\n",
    "# EV of a random solution will be around MAX_VALUES / 2 times NUM_ITEMS / 2"
   ]
  },
  {
   "cell_type": "markdown",
   "source": [
    "# We then generate the items our algorithm will have to work with"
   ],
   "metadata": {
    "collapsed": false
   }
  },
  {
   "cell_type": "code",
   "execution_count": 24,
   "outputs": [],
   "source": [
    "# Items will act as a constant variable for the whole script\n",
    "def generate_items(num_items, max_values):\n",
    "    return [(random.randint(1, max_values), random.randint(1, max_values)) for _ in range(num_items)]"
   ],
   "metadata": {
    "collapsed": false
   }
  },
  {
   "cell_type": "markdown",
   "source": [
    "# Next we define our fitness function\n",
    "## We will sum the values in the solution list and return either its value if it is less than max_weight or 0 if it is more"
   ],
   "metadata": {
    "id": "h4CN7A6QtFy-"
   }
  },
  {
   "cell_type": "code",
   "source": [
    "# Define the fitness function\n",
    "def calculate_fitness(solution, max_weight, items):\n",
    "    weight = 0\n",
    "    value = 0\n",
    "\n",
    "    for i, val in enumerate(solution):\n",
    "        if val:\n",
    "            weight += items[i][0]\n",
    "            value += items[i][1]\n",
    "\n",
    "    if weight > max_weight:\n",
    "        return 0\n",
    "\n",
    "    return value"
   ],
   "metadata": {
    "id": "3jll7fXXshre"
   },
   "execution_count": 25,
   "outputs": []
  },
  {
   "cell_type": "markdown",
   "source": [
    "# Here we define the functions which will calculate crossover and mutation\n",
    "\n",
    "## We define an interleaved crossover which will iterate over both parents and create children with opposite genes\n",
    "\n",
    "## For mutation iterate over the child and randomly flip the current item if we roll mutation"
   ],
   "metadata": {
    "id": "Ohf_IHR0teDg"
   }
  },
  {
   "cell_type": "code",
   "source": [
    "# Define the genetic operators\n",
    "def crossover(parent1, parent2):\n",
    "    # Create a new child by combining the attributes of the parents\n",
    "    child0 = []\n",
    "    child1 = []\n",
    "\n",
    "    # Picking random values from each parent by interleaved crossover\n",
    "    for i in range(len(parent1)):\n",
    "        if random.random() < 0.5:\n",
    "            child0.append(parent1[i])\n",
    "            child1.append(parent2[i])\n",
    "        else:\n",
    "            child0.append(parent2[i])\n",
    "            child1.append(parent2[i])\n",
    "\n",
    "    return [child0, child1]"
   ],
   "metadata": {
    "id": "cHipye4msfyY"
   },
   "execution_count": 26,
   "outputs": []
  },
  {
   "cell_type": "code",
   "execution_count": 27,
   "outputs": [],
   "source": [
    "def mutate(child, mutation_rate):\n",
    "    # Iterate over the solution and flip the bit if mutation occurs\n",
    "    return [val ^ 1 if random.random() <= mutation_rate else val for val in child]"
   ],
   "metadata": {
    "collapsed": false
   }
  },
  {
   "cell_type": "markdown",
   "source": [
    "# Here we generate a population of solutions\n",
    "\n",
    "## The population consists of lists of length NUM_ITEMS where each item can either be picked up in our solution or not"
   ],
   "metadata": {
    "collapsed": false
   }
  },
  {
   "cell_type": "code",
   "source": [
    "# Define the initial population\n",
    "def generate_population(population_size, num_items):\n",
    "    return [[random.randint(0,1) for _ in range(num_items)] for _ in range(population_size)]"
   ],
   "metadata": {
    "colab": {
     "base_uri": "https://localhost:8080/"
    },
    "id": "SFBd8lqusdNJ",
    "outputId": "cbc12ecc-ed8a-4727-8b9c-d04361772637"
   },
   "execution_count": 28,
   "outputs": []
  },
  {
   "cell_type": "markdown",
   "source": [
    "# Here we set up the experiment and generate our items and solutions lists"
   ],
   "metadata": {
    "collapsed": false
   }
  },
  {
   "cell_type": "code",
   "execution_count": 29,
   "outputs": [],
   "source": [
    "# Define logging and fitness lists\n",
    "log = []\n",
    "fitnesses = []\n",
    "time_results = {}\n",
    "\n",
    "# asserting that the population is evenly divisible by 8\n",
    "assert POP_SIZE % TOURNAMENT_SIZE == 0\n",
    "\n",
    "# Generate the items and the population\n",
    "items = generate_items(NUM_ITEMS, MAX_VALUES)\n",
    "population = generate_population(POP_SIZE, NUM_ITEMS)"
   ],
   "metadata": {
    "collapsed": false
   }
  },
  {
   "cell_type": "markdown",
   "source": [
    "# Here is our driver code\n",
    "## We check the fitness of each solution and then pick the best two solutions out of every tournament group\n",
    "## After that we build the next generation using the winners of the tournament and mutate the children\n",
    "## Finally, we set the next generation's population either using dampening or not"
   ],
   "metadata": {
    "collapsed": false
   }
  },
  {
   "cell_type": "code",
   "source": [
    "# time the code runtime\n",
    "start_time = perf_counter()\n",
    "\n",
    "# Run the genetic algorithm\n",
    "for i in range(NUM_ROUNDS):\n",
    "    # Evaluate the fitness of each solution\n",
    "    fitnesses = [calculate_fitness(p, MAX_WEIGHT, items) for p in population]\n",
    "\n",
    "    # Print the epoch number and the fitness of the best solution in this epoch\n",
    "    best_score = max(fitnesses)\n",
    "\n",
    "    # Output the scores every 50 iterations\n",
    "    if i % 50 == 0:\n",
    "        print(f\"Epoch  {i}: Best fitness = {best_score}\")\n",
    "\n",
    "    # Log the best solution\n",
    "    log.append(best_score)\n",
    "\n",
    "    # creating tournament with 8 solutions each, picking best 2 solutions to breed the next generation\n",
    "    next_generation = []\n",
    "    for j in range(0, len(population), TOURNAMENT_SIZE):\n",
    "        tournament_population = population[j:j+TOURNAMENT_SIZE]\n",
    "        best_tournament = {idx: fitnesses[j+idx] for idx in range(len(tournament_population))}\n",
    "        best_tournament = dict(sorted(best_tournament.items(), key=lambda item: item[1], reverse=True))\n",
    "\n",
    "        # Get the 2 best solutions from the tournament\n",
    "        parent0_idx, parent1_idx = list(best_tournament)[:2]\n",
    "\n",
    "        # Crossover the best 2 parent solution TOURNAMENT_SIZE / 2 times\n",
    "        children = [crossover(tournament_population[parent0_idx], tournament_population[parent1_idx]) for _ in range(TOURNAMENT_SIZE // 2)]\n",
    "        children = list(itertools.chain(*children))\n",
    "\n",
    "        # A radioactive spider (sometimes) bites the children\n",
    "        children = [mutate(child, MUTATION_RATE) for child in children]\n",
    "\n",
    "        # Build the next generation\n",
    "        next_generation.extend(children)\n",
    "\n",
    "\n",
    "    \"\"\"\n",
    "    EITHER USE DAMPENING OR SKIP DAMPENING\n",
    "\n",
    "    SKIPPING DAMPENING MEANS THAT THE NEXT GENERATION WILL ONLY BE PICKED FOR THE NEXT ROUND IF IT OUTPERFORMS THE CURRENT GENERATION\n",
    "\n",
    "    OTHERWISE THE NEW GENERATION WILL ALWAYS BE PICKED WHICH RESULTS IN VARIANCE IN THE BEST SOLUTION\n",
    "    \"\"\"\n",
    "\n",
    "    if DAMPENING:\n",
    "        # Calculate best scores of new generation\n",
    "        new_fitnesses = [calculate_fitness(np, MAX_WEIGHT, items) for np in next_generation]\n",
    "        new_best_score = max(new_fitnesses)\n",
    "\n",
    "        # If the result after calculating the new results is worse, then ignore that round\n",
    "        if new_best_score > best_score:\n",
    "            population = next_generation\n",
    "    else:\n",
    "        population = next_generation\n",
    "\n",
    "end_time = perf_counter()\n",
    "\n",
    "# Print the final best solution\n",
    "best_index = fitnesses.index(max(fitnesses))\n",
    "best_solution = population[best_index]\n",
    "\n",
    "gp_time = end_time - start_time\n",
    "time_results[\"GP\"]= gp_time\n",
    "print(f\"Final best solution: {fitnesses[best_index]}\")\n",
    "print(f\"Runtime: {gp_time}\")"
   ],
   "metadata": {
    "colab": {
     "base_uri": "https://localhost:8080/"
    },
    "id": "uOoxSO01saEA",
    "outputId": "05920bf3-b621-4893-f126-4d05fbdb8df4"
   },
   "execution_count": 30,
   "outputs": [
    {
     "name": "stdout",
     "output_type": "stream",
     "text": [
      "Epoch  0: Best fitness = 215\n",
      "Epoch  50: Best fitness = 263\n",
      "Final best solution: 270\n",
      "Runtime: 0.160701708002307\n"
     ]
    }
   ]
  },
  {
   "cell_type": "markdown",
   "source": [
    "# Here we compare our solution with a solution for 0-1 Knapsack using Dynamic Programming\n",
    "\n",
    "> Source: https://www.geeksforgeeks.org/0-1-knapsack-problem-dp-10/"
   ],
   "metadata": {
    "collapsed": false
   }
  },
  {
   "cell_type": "code",
   "execution_count": 31,
   "outputs": [
    {
     "name": "stdout",
     "output_type": "stream",
     "text": [
      "Benchmark Solution: 284\n",
      "Runtime: 0.005770458999904804\n"
     ]
    }
   ],
   "source": [
    "benchmark_start = perf_counter()\n",
    "\n",
    "# Code defined in the other file\n",
    "dp_result = knapsack_dp(items, max_weight=MAX_WEIGHT)\n",
    "\n",
    "benchmark_end = perf_counter()\n",
    "\n",
    "benchmark_time = benchmark_end - benchmark_start\n",
    "time_results[\"DP\"] = benchmark_time\n",
    "\n",
    "print(f\"Benchmark Solution: {dp_result}\")\n",
    "print(f\"Runtime: {benchmark_time}\")"
   ],
   "metadata": {
    "collapsed": false
   }
  },
  {
   "cell_type": "markdown",
   "source": [
    "# Plotting the results of the experiment"
   ],
   "metadata": {
    "collapsed": false
   }
  },
  {
   "cell_type": "code",
   "source": [
    "# Plot the fitness of the best solution in each epoch\n",
    "sns.set_theme(style=\"white\", palette=\"magma\")\n",
    "\n",
    "fig, (ax1, ax2) = plt.subplots(1, 2)\n",
    "fig.set_size_inches(16, 8)\n",
    "fig.suptitle('Results')\n",
    "\n",
    "ax1.plot(log)\n",
    "ax1.set_title(\"Results of training the GP solution over the epochs\")\n",
    "\n",
    "approaches = time_results.keys()\n",
    "results = time_results.values()\n",
    "\n",
    "ax2.bar(approaches, results)\n",
    "ax2.set_title(\"Time comparison of approaches (in seconds)\")\n",
    "\n",
    "plt.show()"
   ],
   "metadata": {
    "id": "Vw5v1JDDsSRX"
   },
   "execution_count": 32,
   "outputs": [
    {
     "data": {
      "text/plain": "<Figure size 1600x800 with 2 Axes>",
      "image/png": "[encoded data removed]"
     },
     "metadata": {},
     "output_type": "display_data"
    }
   ]
  }
 ]
}
